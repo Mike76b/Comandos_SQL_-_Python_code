{
 "cells": [
  {
   "cell_type": "markdown",
   "metadata": {},
   "source": [
    "## Comandos SQL ejecutados dentro de código Python usando el módulo SQLite3."
   ]
  },
  {
   "cell_type": "code",
   "execution_count": 1,
   "metadata": {},
   "outputs": [],
   "source": [
    "import sqlite3"
   ]
  },
  {
   "cell_type": "markdown",
   "metadata": {},
   "source": [
    "Para crear la base de datos como punto de inicio, el equivalente en SQL a:\n",
    "* CREATE DATABASE dataBaseName;\n",
    "\n",
    "Sería conn = sqlite3.connect(\"Samsung_Tecs_Projects_MAD.sqlite3\")\n",
    "\n",
    "* USE dataBaseName;\n",
    "\n",
    "Sería c = conn.cursor()"
   ]
  },
  {
   "cell_type": "code",
   "execution_count": 2,
   "metadata": {},
   "outputs": [],
   "source": [
    "conn = sqlite3.connect(\"Samsung_Tecs_Projects_MAD.sqlite3\")\n",
    "c = conn.cursor()"
   ]
  },
  {
   "cell_type": "markdown",
   "metadata": {},
   "source": [
    "El resto de comandos SQL (en mayúsculas) se ejecutan dentro de:\n",
    "\n",
    "`c.execute(\"\"\"\n",
    "comandos SQL a ejecutar ;\n",
    "\"\"\")`"
   ]
  },
  {
   "cell_type": "markdown",
   "metadata": {},
   "source": [
    "## Creating Tables"
   ]
  },
  {
   "cell_type": "markdown",
   "metadata": {},
   "source": [
    "**Creating table 1:** project_phases"
   ]
  },
  {
   "cell_type": "code",
   "execution_count": 3,
   "metadata": {},
   "outputs": [
    {
     "data": {
      "text/plain": [
       "<sqlite3.Cursor at 0x1827512cb20>"
      ]
     },
     "execution_count": 3,
     "metadata": {},
     "output_type": "execute_result"
    }
   ],
   "source": [
    "c.execute(\"\"\"\n",
    "CREATE TABLE project_phases(\n",
    "Phase_id INTEGER PRIMARY KEY,\n",
    "Phase_name TEXT UNIQUE\n",
    ");\n",
    "\"\"\")"
   ]
  },
  {
   "cell_type": "markdown",
   "metadata": {},
   "source": [
    "**Creating table 2:** project_identification"
   ]
  },
  {
   "cell_type": "code",
   "execution_count": 4,
   "metadata": {},
   "outputs": [
    {
     "data": {
      "text/plain": [
       "<sqlite3.Cursor at 0x1827512cb20>"
      ]
     },
     "execution_count": 4,
     "metadata": {},
     "output_type": "execute_result"
    }
   ],
   "source": [
    "c.execute(\"\"\"\n",
    "CREATE TABLE project_identification(\n",
    "Project_id INTEGER AUTO INCREMENT,\n",
    "Project_Name TEXT,\n",
    "Phase_id INTEGER,\n",
    "Related_Projects BLOB NOT NULL,\n",
    "Describe TEXT NOT NULL,\n",
    "FOREIGN KEY (Phase_id) REFERENCES project_phases(Phase_id)\n",
    ");\n",
    "\"\"\")"
   ]
  },
  {
   "cell_type": "markdown",
   "metadata": {},
   "source": [
    "**Creating table 3:** project_people"
   ]
  },
  {
   "cell_type": "code",
   "execution_count": 5,
   "metadata": {},
   "outputs": [
    {
     "data": {
      "text/plain": [
       "<sqlite3.Cursor at 0x1827512cb20>"
      ]
     },
     "execution_count": 5,
     "metadata": {},
     "output_type": "execute_result"
    }
   ],
   "source": [
    "c.execute(\"\"\"\n",
    "CREATE TABLE project_people(\n",
    "Employee_id TEXT NOT NULL UNIQUE,\n",
    "F_Name TEXT NOT NULL,\n",
    "L_Name TEXT NOT NULL,\n",
    "email TEXT NOT NULL,\n",
    "Phone_num TEXT DEFAULT 'no info.',\n",
    "P_manager BLOB,\n",
    "P_developer BLOB DEFAULT 0,\n",
    "Currently_member_of_project_a INTEGER, \n",
    "Currently_member_of_project_b INTEGER, \n",
    "Currently_member_of_project_c INTEGER, \n",
    "FOREIGN KEY (Currently_member_of_project_a) REFERENCES project_identification(Project_id),\n",
    "FOREIGN KEY (Currently_member_of_project_b) REFERENCES project_identification(Project_id),\n",
    "FOREIGN KEY (Currently_member_of_project_c) REFERENCES project_identification(Project_id)\n",
    ");\n",
    "\"\"\")"
   ]
  },
  {
   "cell_type": "markdown",
   "metadata": {},
   "source": [
    "## Inserting some records"
   ]
  },
  {
   "cell_type": "markdown",
   "metadata": {},
   "source": [
    "**INTO project_phases**"
   ]
  },
  {
   "cell_type": "code",
   "execution_count": 6,
   "metadata": {},
   "outputs": [
    {
     "data": {
      "text/plain": [
       "<sqlite3.Cursor at 0x1827512cb20>"
      ]
     },
     "execution_count": 6,
     "metadata": {},
     "output_type": "execute_result"
    }
   ],
   "source": [
    "c.execute(\"\"\"\n",
    "INSERT INTO project_phases\n",
    "VALUES\n",
    "(0, 'Stand-by / Paused'),\n",
    "(1, 'Planning / Defining'),\n",
    "(2, 'Designing'),\n",
    "(3, 'Developing'),\n",
    "(4, 'Testing'),\n",
    "(5, 'Go-live'),\n",
    "(6, 'Follow-up / Maintenance'),\n",
    "(7, 'Cancelled'),\n",
    "(8, 'Ended / Closed')\n",
    ";\n",
    "\"\"\")"
   ]
  },
  {
   "cell_type": "markdown",
   "metadata": {},
   "source": [
    "**INTO project_identification**"
   ]
  },
  {
   "cell_type": "code",
   "execution_count": 7,
   "metadata": {},
   "outputs": [
    {
     "data": {
      "text/plain": [
       "<sqlite3.Cursor at 0x1827512cb20>"
      ]
     },
     "execution_count": 7,
     "metadata": {},
     "output_type": "execute_result"
    }
   ],
   "source": [
    "c.execute(\"\"\"\n",
    "INSERT INTO project_identification\n",
    "VALUES\n",
    "(0, 'no project assigned', 0, 0, 'none'),\n",
    "(1, 'Fibra óptica Paracuellos de Jarama', 1, 0, 'none'),\n",
    "(2, 'Reestructuración BBDD de Mercedes-Benz Alcobendas', 4, 0, 'none'),\n",
    "(3, 'Canales de comunicación del Ayuntamiento SS.Reyes', 6, 0, 'none'),\n",
    "(4, 'Fibra óptica Ayto SS.Reyes', 1, 1, 'Relacionado con proyecto id 3.'),\n",
    "(5, 'Desarrollo de ventana de búsqueda para Dpto Comercial', 3, 0, 'Interno')\n",
    ";\n",
    "\"\"\")"
   ]
  },
  {
   "cell_type": "markdown",
   "metadata": {},
   "source": [
    "**INTO project_people**"
   ]
  },
  {
   "cell_type": "code",
   "execution_count": 8,
   "metadata": {},
   "outputs": [
    {
     "data": {
      "text/plain": [
       "<sqlite3.Cursor at 0x1827512cb20>"
      ]
     },
     "execution_count": 8,
     "metadata": {},
     "output_type": "execute_result"
    }
   ],
   "source": [
    "c.execute(\"\"\"\n",
    "INSERT INTO project_people\n",
    "VALUES\n",
    "('N-MAD-000001', 'ANA', 'SANZ', 'anas@somemail.com', '685777999', 0, 1, 2, 0, 0),\n",
    "('N-MAD-000002', 'RODRIGO', 'SANZ', 'rods@themail.com', '6857888999', 1, 0, 1, 3, 4),\n",
    "('N-MAD-000003', 'MIGUEL', 'BARRERA', 'migb@othermail.com', '685444777', 0, 1, 1, 0, 0),\n",
    "('N-MAD-000004', 'SARA', 'PEREZ', 'sarp@somemail.com', '685999555', 1, 0, 5, 0, 0),\n",
    "('N-MAD-000005', 'JOSE', 'VIDAL', 'josv@somemail.com', '685222333', 0, 1, 0, 0, 0),\n",
    "('N-MAD-000006', 'PILI', 'CONTRERAS', 'pilc@themail.com', '685111888', 0, 1, 3, 0, 0),\n",
    "('N-MAD-000007', 'ALBA', 'REYES', 'albr@othermail.com', '685222555', 1, 0, 2, 0, 0)\n",
    ";\n",
    "\"\"\")"
   ]
  },
  {
   "cell_type": "markdown",
   "metadata": {},
   "source": [
    "## Doing some manipulations"
   ]
  },
  {
   "cell_type": "markdown",
   "metadata": {},
   "source": [
    "**Updating** the phone number from \"project_people\" at row 2."
   ]
  },
  {
   "cell_type": "code",
   "execution_count": 9,
   "metadata": {},
   "outputs": [
    {
     "data": {
      "text/plain": [
       "<sqlite3.Cursor at 0x1827512cb20>"
      ]
     },
     "execution_count": 9,
     "metadata": {},
     "output_type": "execute_result"
    }
   ],
   "source": [
    "c.execute(\"\"\"\n",
    "UPDATE project_people\n",
    "SET Phone_num = 685888999\n",
    "WHERE Employee_id = 'N-MAD-000002'\n",
    ";\n",
    "\"\"\")"
   ]
  },
  {
   "cell_type": "markdown",
   "metadata": {},
   "source": [
    "**Creating a TABLE** from a bigger one."
   ]
  },
  {
   "cell_type": "code",
   "execution_count": 10,
   "metadata": {},
   "outputs": [
    {
     "data": {
      "text/plain": [
       "<sqlite3.Cursor at 0x1827512cb20>"
      ]
     },
     "execution_count": 10,
     "metadata": {},
     "output_type": "execute_result"
    }
   ],
   "source": [
    "c.execute(\"\"\"\n",
    "CREATE TABLE project_managers AS\n",
    "SELECT F_Name, P_Manager\n",
    "FROM project_people\n",
    "WHERE P_Manager = 1\n",
    ";\n",
    "\"\"\")"
   ]
  },
  {
   "cell_type": "markdown",
   "metadata": {},
   "source": [
    "**JOINING** from two different ones.\n",
    "\n",
    "`Nota: La primera línea (CREATE TABLE...) la agregé para agrupar el resultado en una \"entidad visible\" desde la web SQLViewer, con solo arrastrar hasta la página el archivo de la base de datos (Samsung_Tecs_Projects_MAD.sqlite3) y buscar la tabla creada.`"
   ]
  },
  {
   "cell_type": "code",
   "execution_count": 11,
   "metadata": {},
   "outputs": [
    {
     "data": {
      "text/plain": [
       "<sqlite3.Cursor at 0x1827512cb20>"
      ]
     },
     "execution_count": 11,
     "metadata": {},
     "output_type": "execute_result"
    }
   ],
   "source": [
    "c.execute(\"\"\"\n",
    "CREATE TABLE project_status AS\n",
    "SELECT \n",
    "    pi.Project_id, pi.Project_Name,\n",
    "    pp.Phase_name\n",
    "FROM project_identification AS pi\n",
    "JOIN project_phases AS pp\n",
    "ON pi.Phase_id = pp.Phase_id\n",
    ";\n",
    "\"\"\")"
   ]
  },
  {
   "cell_type": "markdown",
   "metadata": {},
   "source": [
    "**Using LIKE** to see all the projects that match the criteria (Fibra óptica).\n",
    "\n",
    "`Nota: Igual que el caso anterior, (CREATE TABLE...) <-- mismo objetivo.`"
   ]
  },
  {
   "cell_type": "code",
   "execution_count": 12,
   "metadata": {},
   "outputs": [
    {
     "data": {
      "text/plain": [
       "<sqlite3.Cursor at 0x1827512cb20>"
      ]
     },
     "execution_count": 12,
     "metadata": {},
     "output_type": "execute_result"
    }
   ],
   "source": [
    "c.execute(\"\"\"\n",
    "CREATE TABLE proyectos_de_fibra AS\n",
    "SELECT *\n",
    "FROM project_identification\n",
    "WHERE Project_Name LIKE '%Fibra óptica%'\n",
    ";\n",
    "\"\"\")"
   ]
  },
  {
   "cell_type": "markdown",
   "metadata": {},
   "source": [
    "**ADDING** a column to a table. **DDL command** or Data Definition Language command. It means that works on the structure of the table and not on the data contained in the table."
   ]
  },
  {
   "cell_type": "code",
   "execution_count": 13,
   "metadata": {},
   "outputs": [
    {
     "data": {
      "text/plain": [
       "<sqlite3.Cursor at 0x1827512cb20>"
      ]
     },
     "execution_count": 13,
     "metadata": {},
     "output_type": "execute_result"
    }
   ],
   "source": [
    "c.execute(\"\"\"\n",
    "ALTER TABLE project_identification\n",
    "ADD Country TEXT\n",
    ";\n",
    "\"\"\")"
   ]
  },
  {
   "cell_type": "code",
   "execution_count": 14,
   "metadata": {},
   "outputs": [
    {
     "data": {
      "text/plain": [
       "<sqlite3.Cursor at 0x1827512cb20>"
      ]
     },
     "execution_count": 14,
     "metadata": {},
     "output_type": "execute_result"
    }
   ],
   "source": [
    "c.execute(\"\"\"\n",
    "UPDATE project_identification\n",
    "SET Country = 'Spain'\n",
    ";\n",
    "\"\"\")"
   ]
  },
  {
   "cell_type": "markdown",
   "metadata": {},
   "source": [
    "### Let's commit !"
   ]
  },
  {
   "cell_type": "code",
   "execution_count": 15,
   "metadata": {},
   "outputs": [],
   "source": [
    "conn.commit()"
   ]
  },
  {
   "cell_type": "markdown",
   "metadata": {},
   "source": [
    "**TRUNCATING / DELETING / DROPPING**\n",
    "La principal diferencia entre estos comandos está en que:\n",
    "\n",
    "* TRUNCATE es un comando DDL por lo que elimina las filas de la tabla, más no la existencia de la tabla.\n",
    "* DELETING es un comando DML por lo que actúa sobre los datos de la tabla y no sobre su estructura, se puede combinar con WHERE para filtrar/definir sobre qué actuar.\n",
    "* DROP es un comando DDL que elimina tanto los datos como la columna/tabla de la tabla/base de datos."
   ]
  },
  {
   "cell_type": "code",
   "execution_count": 16,
   "metadata": {},
   "outputs": [
    {
     "data": {
      "text/plain": [
       "<sqlite3.Cursor at 0x1827512cb20>"
      ]
     },
     "execution_count": 16,
     "metadata": {},
     "output_type": "execute_result"
    }
   ],
   "source": [
    "c.execute(\"\"\"\n",
    "DROP TABLE proyectos_de_fibra\n",
    ";\n",
    "\"\"\")"
   ]
  },
  {
   "cell_type": "markdown",
   "metadata": {},
   "source": [
    "**Nota:** Al finalizar se debe cerrar el cursor y la conexión."
   ]
  },
  {
   "cell_type": "code",
   "execution_count": 17,
   "metadata": {},
   "outputs": [],
   "source": [
    "c.close()\n",
    "conn.commit()\n",
    "conn.close()"
   ]
  },
  {
   "cell_type": "code",
   "execution_count": null,
   "metadata": {},
   "outputs": [],
   "source": []
  }
 ],
 "metadata": {
  "kernelspec": {
   "display_name": "Python 3",
   "language": "python",
   "name": "python3"
  },
  "language_info": {
   "codemirror_mode": {
    "name": "ipython",
    "version": 3
   },
   "file_extension": ".py",
   "mimetype": "text/x-python",
   "name": "python",
   "nbconvert_exporter": "python",
   "pygments_lexer": "ipython3",
   "version": "3.7.0"
  }
 },
 "nbformat": 4,
 "nbformat_minor": 2
}
